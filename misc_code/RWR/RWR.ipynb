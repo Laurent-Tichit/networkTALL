{
 "cells": [
  {
   "cell_type": "code",
   "execution_count": 1,
   "id": "29cc10a1",
   "metadata": {},
   "outputs": [],
   "source": [
    "import graph_tool.all as gt\n",
    "# import matplotlib\n",
    "import csv, os\n",
    "# import pathlib"
   ]
  },
  {
   "cell_type": "code",
   "execution_count": 2,
   "id": "27e2dc57",
   "metadata": {},
   "outputs": [],
   "source": [
    "# change this line to suit your needs\n",
    "rwrd = \"/home/nguyenah1112/networkTALL/misc_code/RWR\"\n",
    "\n",
    "# input network file\n",
    "network_file = os.path.join(rwrd, \"data/HI-union.tsv\")\n",
    "\n",
    "# input weights file: weigths are either binary (0 or 1) or \"-log(p-value)\" to have low p-value -> big number and high p-value -> low number\n",
    "weights_file = os.path.join(rwrd, \"data/DiffExpr_weights.tsv\")\n",
    "\n",
    "# output file \n",
    "outfile = os.path.join(rwrd, \"output/RW_HI-union.tsv\")"
   ]
  },
  {
   "cell_type": "code",
   "execution_count": 3,
   "id": "ca026251",
   "metadata": {},
   "outputs": [],
   "source": [
    "# should be a 2-column CSV of edge list. And edge is a pair of nodes.\n",
    "g = gt.load_graph_from_csv(network_file, csv_options={'delimiter': '\\t'})"
   ]
  },
  {
   "cell_type": "code",
   "execution_count": 4,
   "id": "f28d7237",
   "metadata": {},
   "outputs": [],
   "source": [
    "# create dict, to be able to get node object from node name\n",
    "name2node = {}\n",
    "for v in g.iter_vertices():\n",
    "    name2node[g.vp.name[v]] = v"
   ]
  },
  {
   "cell_type": "code",
   "execution_count": 5,
   "id": "b1a8aa38",
   "metadata": {},
   "outputs": [],
   "source": [
    "# read weights file and add to graphs as pers property (personalized)\n",
    "with open(weights_file, \"r\") as f:\n",
    "    csv_reader = csv.reader(f, delimiter='\\t')\n",
    "    list_of_rows = list(csv_reader)\n",
    "g.vp.pers = g.new_vertex_property('double')\n",
    "for name, weight in list_of_rows:\n",
    "    n = name2node[name]\n",
    "    g.vp.pers[n] = weight"
   ]
  },
  {
   "cell_type": "code",
   "execution_count": 6,
   "id": "a19cba4d",
   "metadata": {},
   "outputs": [],
   "source": [
    "# returns the distribution vector, and the number of iterations done\n",
    "v_distrib = gt.graph_tool.centrality.pagerank(g,\n",
    "                        pers=g.vp.pers,\n",
    "                        damping=0.5,\n",
    "                        epsilon=1e-09,\n",
    "                        max_iter=g.num_edges())"
   ]
  },
  {
   "cell_type": "code",
   "execution_count": 7,
   "id": "c610b7e1",
   "metadata": {},
   "outputs": [],
   "source": [
    "# adds the vector distribution to the graph (so that if we save the graph, the node values will be saved)\n",
    "g.vp.v_distrib = v_distrib"
   ]
  },
  {
   "cell_type": "code",
   "execution_count": 8,
   "id": "996f5c55",
   "metadata": {},
   "outputs": [],
   "source": [
    "# save the vector distribution to file\n",
    "with open(outfile, \"w\") as f:\n",
    "    for v in g.iter_vertices():\n",
    "        print(f\"{g.vp.name[v]}\\t{g.vp.v_distrib[v]:.9f}\", file=f)"
   ]
  },
  {
   "cell_type": "code",
   "execution_count": null,
   "id": "a94edbf5",
   "metadata": {},
   "outputs": [],
   "source": []
  }
 ],
 "metadata": {
  "kernelspec": {
   "display_name": "Python 3 (ipykernel)",
   "language": "python",
   "name": "python3"
  },
  "language_info": {
   "codemirror_mode": {
    "name": "ipython",
    "version": 3
   },
   "file_extension": ".py",
   "mimetype": "text/x-python",
   "name": "python",
   "nbconvert_exporter": "python",
   "pygments_lexer": "ipython3",
   "version": "3.11.3"
  }
 },
 "nbformat": 4,
 "nbformat_minor": 5
}
