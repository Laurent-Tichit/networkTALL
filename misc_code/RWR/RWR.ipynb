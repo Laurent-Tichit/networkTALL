{
 "cells": [
  {
   "cell_type": "code",
   "execution_count": 1,
   "id": "29cc10a1",
   "metadata": {},
   "outputs": [],
   "source": [
    "import graph_tool.all as gt\n",
    "# import matplotlib\n",
    "import csv, os\n",
    "# import pathlib"
   ]
  },
  {
   "cell_type": "code",
   "execution_count": 2,
   "id": "27e2dc57",
   "metadata": {},
   "outputs": [],
   "source": [
    "# change this line to suit your needs\n",
    "rwrd = \"/home/nguyenah1112/networkTALL/misc_code/RWR\"\n",
    "\n",
    "# input network file\n",
    "network_file = os.path.join(rwrd, \"data/PPI_HiUnion_LitBM_APID_gene_names_190123_nodes_only.tsv\")\n",
    "\n",
    "# input weights file: weigths are either binary (0 or 1) or \"-log(p-value)\" to have low p-value -> big number and high p-value -> low number\n",
    "weights_file = os.path.join(rwrd, \"data/tAML_P3_SNV_polyphen_15390_nodes.tsv\")\n",
    "\n",
    "# output file \n",
    "outfile = os.path.join(rwrd, \"output/RW_P3_tAML.tsv\")"
   ]
  },
  {
   "cell_type": "code",
   "execution_count": 3,
   "id": "ca026251",
   "metadata": {},
   "outputs": [],
   "source": [
    "# should be a 2-column CSV of edge list. And edge is a pair of nodes.\n",
    "g = gt.load_graph_from_csv(network_file, csv_options={'delimiter': '\\t'})"
   ]
  },
  {
   "cell_type": "code",
   "execution_count": 4,
   "id": "5ff9c8d6",
   "metadata": {},
   "outputs": [
    {
     "data": {
      "text/plain": [
       "15390"
      ]
     },
     "execution_count": 4,
     "metadata": {},
     "output_type": "execute_result"
    }
   ],
   "source": [
    "g.num_vertices()"
   ]
  },
  {
   "cell_type": "code",
   "execution_count": 5,
   "id": "f28d7237",
   "metadata": {},
   "outputs": [],
   "source": [
    "# create dict, to be able to get node object from node name\n",
    "name2node = {}\n",
    "for v in g.iter_vertices():\n",
    "    name2node[g.vp.name[v]] = v"
   ]
  },
  {
   "cell_type": "code",
   "execution_count": 6,
   "id": "88660561",
   "metadata": {},
   "outputs": [],
   "source": [
    "# read weights file and add to graphs as pers property (personalized)\n",
    "with open(weights_file, \"r\") as f:\n",
    "    csv_reader = csv.reader(f, delimiter='\\t')\n",
    "    list_of_rows = list(csv_reader)"
   ]
  },
  {
   "cell_type": "code",
   "execution_count": 7,
   "id": "b0cd5559",
   "metadata": {},
   "outputs": [
    {
     "data": {
      "text/plain": [
       "['LONRF3', '0.021914446']"
      ]
     },
     "execution_count": 7,
     "metadata": {},
     "output_type": "execute_result"
    }
   ],
   "source": [
    "list_of_rows[0]"
   ]
  },
  {
   "cell_type": "code",
   "execution_count": 8,
   "id": "a19cba4d",
   "metadata": {},
   "outputs": [
    {
     "ename": "AttributeError",
     "evalue": "'super' object has no attribute 'pers'",
     "output_type": "error",
     "traceback": [
      "\u001b[0;31m---------------------------------------------------------------------------\u001b[0m",
      "\u001b[0;31mKeyError\u001b[0m                                  Traceback (most recent call last)",
      "File \u001b[0;32m~/anaconda3/envs/gt/lib/python3.11/site-packages/graph_tool/__init__.py:1558\u001b[0m, in \u001b[0;36mPropertyDict.__getattr__\u001b[0;34m(self, attr)\u001b[0m\n\u001b[1;32m   1557\u001b[0m \u001b[38;5;28;01mtry\u001b[39;00m:\n\u001b[0;32m-> 1558\u001b[0m     \u001b[38;5;28;01mreturn\u001b[39;00m \u001b[38;5;28;43mself\u001b[39;49m\u001b[38;5;241;43m.\u001b[39;49m\u001b[38;5;21;43m__getitem__\u001b[39;49m\u001b[43m(\u001b[49m\u001b[43mattr\u001b[49m\u001b[43m)\u001b[49m\n\u001b[1;32m   1559\u001b[0m \u001b[38;5;28;01mexcept\u001b[39;00m \u001b[38;5;167;01mKeyError\u001b[39;00m:\n",
      "File \u001b[0;32m~/anaconda3/envs/gt/lib/python3.11/site-packages/graph_tool/__init__.py:1466\u001b[0m, in \u001b[0;36mPropertyDict.__getitem__\u001b[0;34m(self, key)\u001b[0m\n\u001b[1;32m   1465\u001b[0m     \u001b[38;5;28;01mreturn\u001b[39;00m p[p\u001b[38;5;241m.\u001b[39mget_graph()]\n\u001b[0;32m-> 1466\u001b[0m \u001b[38;5;28;01mreturn\u001b[39;00m \u001b[38;5;28;43mself\u001b[39;49m\u001b[38;5;241;43m.\u001b[39;49m\u001b[43m__properties\u001b[49m\u001b[43m[\u001b[49m\u001b[43m(\u001b[49m\u001b[38;5;28;43mself\u001b[39;49m\u001b[38;5;241;43m.\u001b[39;49m\u001b[43m__t\u001b[49m\u001b[43m,\u001b[49m\u001b[43m \u001b[49m\u001b[43mkey\u001b[49m\u001b[43m)\u001b[49m\u001b[43m]\u001b[49m\n",
      "\u001b[0;31mKeyError\u001b[0m: ('v', 'pers')",
      "\nDuring handling of the above exception, another exception occurred:\n",
      "\u001b[0;31mAttributeError\u001b[0m                            Traceback (most recent call last)",
      "Cell \u001b[0;32mIn[8], line 3\u001b[0m\n\u001b[1;32m      1\u001b[0m \u001b[38;5;66;03m# returns the distribution vector, and the number of iterations done\u001b[39;00m\n\u001b[1;32m      2\u001b[0m v_distrib \u001b[38;5;241m=\u001b[39m gt\u001b[38;5;241m.\u001b[39mgraph_tool\u001b[38;5;241m.\u001b[39mcentrality\u001b[38;5;241m.\u001b[39mpagerank(g,\n\u001b[0;32m----> 3\u001b[0m                         pers\u001b[38;5;241m=\u001b[39m\u001b[43mg\u001b[49m\u001b[38;5;241;43m.\u001b[39;49m\u001b[43mvp\u001b[49m\u001b[38;5;241;43m.\u001b[39;49m\u001b[43mpers\u001b[49m,\n\u001b[1;32m      4\u001b[0m                         damping\u001b[38;5;241m=\u001b[39m\u001b[38;5;241m0.5\u001b[39m,\n\u001b[1;32m      5\u001b[0m                         epsilon\u001b[38;5;241m=\u001b[39m\u001b[38;5;241m1e-09\u001b[39m,\n\u001b[1;32m      6\u001b[0m                         max_iter\u001b[38;5;241m=\u001b[39mg\u001b[38;5;241m.\u001b[39mnum_edges())\n",
      "File \u001b[0;32m~/anaconda3/envs/gt/lib/python3.11/site-packages/graph_tool/__init__.py:1560\u001b[0m, in \u001b[0;36mPropertyDict.__getattr__\u001b[0;34m(self, attr)\u001b[0m\n\u001b[1;32m   1558\u001b[0m     \u001b[38;5;28;01mreturn\u001b[39;00m \u001b[38;5;28mself\u001b[39m\u001b[38;5;241m.\u001b[39m\u001b[38;5;21m__getitem__\u001b[39m(attr)\n\u001b[1;32m   1559\u001b[0m \u001b[38;5;28;01mexcept\u001b[39;00m \u001b[38;5;167;01mKeyError\u001b[39;00m:\n\u001b[0;32m-> 1560\u001b[0m     \u001b[38;5;28;01mreturn\u001b[39;00m \u001b[38;5;28mgetattr\u001b[39m(\u001b[38;5;28msuper\u001b[39m(PropertyDict, \u001b[38;5;28mself\u001b[39m), attr)\n",
      "\u001b[0;31mAttributeError\u001b[0m: 'super' object has no attribute 'pers'"
     ]
    }
   ],
   "source": [
    "# returns the distribution vector, and the number of iterations done\n",
    "v_distrib = gt.graph_tool.centrality.pagerank(g,\n",
    "                        pers=g.vp.pers,\n",
    "                        damping=0.5,\n",
    "                        epsilon=1e-09,\n",
    "                        max_iter=g.num_edges())"
   ]
  },
  {
   "cell_type": "code",
   "execution_count": 9,
   "id": "b1a8aa38",
   "metadata": {},
   "outputs": [],
   "source": [
    "g.vp.pers = g.new_vertex_property('double')\n",
    "for gene, weight in list_of_rows:\n",
    "    n = name2node[gene]\n",
    "    g.vp.pers[n] = weight"
   ]
  },
  {
   "cell_type": "code",
   "execution_count": 10,
   "id": "c610b7e1",
   "metadata": {},
   "outputs": [
    {
     "ename": "NameError",
     "evalue": "name 'v_distrib' is not defined",
     "output_type": "error",
     "traceback": [
      "\u001b[0;31m---------------------------------------------------------------------------\u001b[0m",
      "\u001b[0;31mNameError\u001b[0m                                 Traceback (most recent call last)",
      "Cell \u001b[0;32mIn[10], line 2\u001b[0m\n\u001b[1;32m      1\u001b[0m \u001b[38;5;66;03m# adds the vector distribution to the graph (so that if we save the graph, the node values will be saved)\u001b[39;00m\n\u001b[0;32m----> 2\u001b[0m g\u001b[38;5;241m.\u001b[39mvp\u001b[38;5;241m.\u001b[39mv_distrib \u001b[38;5;241m=\u001b[39m \u001b[43mv_distrib\u001b[49m\n",
      "\u001b[0;31mNameError\u001b[0m: name 'v_distrib' is not defined"
     ]
    }
   ],
   "source": [
    "# adds the vector distribution to the graph (so that if we save the graph, the node values will be saved)\n",
    "g.vp.v_distrib = v_distrib"
   ]
  },
  {
   "cell_type": "code",
   "execution_count": 11,
   "id": "996f5c55",
   "metadata": {},
   "outputs": [
    {
     "ename": "AttributeError",
     "evalue": "'super' object has no attribute 'v_distrib'",
     "output_type": "error",
     "traceback": [
      "\u001b[0;31m---------------------------------------------------------------------------\u001b[0m",
      "\u001b[0;31mKeyError\u001b[0m                                  Traceback (most recent call last)",
      "File \u001b[0;32m~/anaconda3/envs/gt/lib/python3.11/site-packages/graph_tool/__init__.py:1558\u001b[0m, in \u001b[0;36mPropertyDict.__getattr__\u001b[0;34m(self, attr)\u001b[0m\n\u001b[1;32m   1557\u001b[0m \u001b[38;5;28;01mtry\u001b[39;00m:\n\u001b[0;32m-> 1558\u001b[0m     \u001b[38;5;28;01mreturn\u001b[39;00m \u001b[38;5;28;43mself\u001b[39;49m\u001b[38;5;241;43m.\u001b[39;49m\u001b[38;5;21;43m__getitem__\u001b[39;49m\u001b[43m(\u001b[49m\u001b[43mattr\u001b[49m\u001b[43m)\u001b[49m\n\u001b[1;32m   1559\u001b[0m \u001b[38;5;28;01mexcept\u001b[39;00m \u001b[38;5;167;01mKeyError\u001b[39;00m:\n",
      "File \u001b[0;32m~/anaconda3/envs/gt/lib/python3.11/site-packages/graph_tool/__init__.py:1466\u001b[0m, in \u001b[0;36mPropertyDict.__getitem__\u001b[0;34m(self, key)\u001b[0m\n\u001b[1;32m   1465\u001b[0m     \u001b[38;5;28;01mreturn\u001b[39;00m p[p\u001b[38;5;241m.\u001b[39mget_graph()]\n\u001b[0;32m-> 1466\u001b[0m \u001b[38;5;28;01mreturn\u001b[39;00m \u001b[38;5;28;43mself\u001b[39;49m\u001b[38;5;241;43m.\u001b[39;49m\u001b[43m__properties\u001b[49m\u001b[43m[\u001b[49m\u001b[43m(\u001b[49m\u001b[38;5;28;43mself\u001b[39;49m\u001b[38;5;241;43m.\u001b[39;49m\u001b[43m__t\u001b[49m\u001b[43m,\u001b[49m\u001b[43m \u001b[49m\u001b[43mkey\u001b[49m\u001b[43m)\u001b[49m\u001b[43m]\u001b[49m\n",
      "\u001b[0;31mKeyError\u001b[0m: ('v', 'v_distrib')",
      "\nDuring handling of the above exception, another exception occurred:\n",
      "\u001b[0;31mAttributeError\u001b[0m                            Traceback (most recent call last)",
      "Cell \u001b[0;32mIn[11], line 4\u001b[0m\n\u001b[1;32m      2\u001b[0m \u001b[38;5;28;01mwith\u001b[39;00m \u001b[38;5;28mopen\u001b[39m(outfile, \u001b[38;5;124m\"\u001b[39m\u001b[38;5;124mw\u001b[39m\u001b[38;5;124m\"\u001b[39m) \u001b[38;5;28;01mas\u001b[39;00m f:\n\u001b[1;32m      3\u001b[0m     \u001b[38;5;28;01mfor\u001b[39;00m v \u001b[38;5;129;01min\u001b[39;00m g\u001b[38;5;241m.\u001b[39miter_vertices():\n\u001b[0;32m----> 4\u001b[0m         \u001b[38;5;28mprint\u001b[39m(\u001b[38;5;124mf\u001b[39m\u001b[38;5;124m\"\u001b[39m\u001b[38;5;132;01m{\u001b[39;00mg\u001b[38;5;241m.\u001b[39mvp\u001b[38;5;241m.\u001b[39mname[v]\u001b[38;5;132;01m}\u001b[39;00m\u001b[38;5;130;01m\\t\u001b[39;00m\u001b[38;5;132;01m{\u001b[39;00m\u001b[43mg\u001b[49m\u001b[38;5;241;43m.\u001b[39;49m\u001b[43mvp\u001b[49m\u001b[38;5;241;43m.\u001b[39;49m\u001b[43mv_distrib\u001b[49m[v]\u001b[38;5;132;01m:\u001b[39;00m\u001b[38;5;124m.9f\u001b[39m\u001b[38;5;132;01m}\u001b[39;00m\u001b[38;5;124m\"\u001b[39m, file\u001b[38;5;241m=\u001b[39mf)\n",
      "File \u001b[0;32m~/anaconda3/envs/gt/lib/python3.11/site-packages/graph_tool/__init__.py:1560\u001b[0m, in \u001b[0;36mPropertyDict.__getattr__\u001b[0;34m(self, attr)\u001b[0m\n\u001b[1;32m   1558\u001b[0m     \u001b[38;5;28;01mreturn\u001b[39;00m \u001b[38;5;28mself\u001b[39m\u001b[38;5;241m.\u001b[39m\u001b[38;5;21m__getitem__\u001b[39m(attr)\n\u001b[1;32m   1559\u001b[0m \u001b[38;5;28;01mexcept\u001b[39;00m \u001b[38;5;167;01mKeyError\u001b[39;00m:\n\u001b[0;32m-> 1560\u001b[0m     \u001b[38;5;28;01mreturn\u001b[39;00m \u001b[38;5;28mgetattr\u001b[39m(\u001b[38;5;28msuper\u001b[39m(PropertyDict, \u001b[38;5;28mself\u001b[39m), attr)\n",
      "\u001b[0;31mAttributeError\u001b[0m: 'super' object has no attribute 'v_distrib'"
     ]
    }
   ],
   "source": [
    "# save the vector distribution to file\n",
    "with open(outfile, \"w\") as f:\n",
    "    for v in g.iter_vertices():\n",
    "        print(f\"{g.vp.name[v]}\\t{g.vp.v_distrib[v]:.9f}\", file=f)"
   ]
  },
  {
   "cell_type": "code",
   "execution_count": null,
   "id": "a94edbf5",
   "metadata": {},
   "outputs": [],
   "source": []
  },
  {
   "cell_type": "code",
   "execution_count": null,
   "id": "620eb058",
   "metadata": {},
   "outputs": [],
   "source": []
  },
  {
   "cell_type": "code",
   "execution_count": null,
   "id": "13fda148",
   "metadata": {},
   "outputs": [],
   "source": []
  }
 ],
 "metadata": {
  "kernelspec": {
   "display_name": "Python 3 (ipykernel)",
   "language": "python",
   "name": "python3"
  },
  "language_info": {
   "codemirror_mode": {
    "name": "ipython",
    "version": 3
   },
   "file_extension": ".py",
   "mimetype": "text/x-python",
   "name": "python",
   "nbconvert_exporter": "python",
   "pygments_lexer": "ipython3",
   "version": "3.11.3"
  }
 },
 "nbformat": 4,
 "nbformat_minor": 5
}
