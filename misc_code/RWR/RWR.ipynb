{
 "cells": [
  {
   "cell_type": "code",
   "execution_count": 1,
   "id": "29cc10a1",
   "metadata": {},
   "outputs": [],
   "source": [
    "import graph_tool.all as gt\n",
    "import matplotlib"
   ]
  },
  {
   "cell_type": "code",
   "execution_count": 3,
   "id": "f28d7237",
   "metadata": {},
   "outputs": [],
   "source": [
    "g = gt.load_graph_from_csv(\"../data/HI-union.tsv\", csv_options={'delimiter': '\\t'})"
   ]
  },
  {
   "cell_type": "code",
   "execution_count": 4,
   "id": "a19cba4d",
   "metadata": {},
   "outputs": [],
   "source": [
    "v_distrib, ri = gt.graph_tool.centrality.pagerank(g, damping=1, epsilon=1e-04, max_iter=g.num_edges(), ret_iter=True)"
   ]
  },
  {
   "cell_type": "code",
   "execution_count": 5,
   "id": "c610b7e1",
   "metadata": {},
   "outputs": [
    {
     "name": "stdout",
     "output_type": "stream",
     "text": [
      "64006\n"
     ]
    }
   ],
   "source": [
    "print(ri)"
   ]
  },
  {
   "cell_type": "code",
   "execution_count": 6,
   "id": "996f5c55",
   "metadata": {},
   "outputs": [],
   "source": [
    "g.vp.v_distrib = v_distrib"
   ]
  },
  {
   "cell_type": "code",
   "execution_count": 8,
   "id": "9f8eb8af",
   "metadata": {},
   "outputs": [
    {
     "data": {
      "text/plain": [
       "<VertexPropertyMap object with value type 'vector<double>', for Graph 0x7f77e72646a0, at 0x7f7778963ca0>"
      ]
     },
     "execution_count": 8,
     "metadata": {},
     "output_type": "execute_result"
    }
   ],
   "source": [
    "pos = gt.sfdp_layout(g)\n",
    "gt.graph_draw(g,\n",
    "            pos,\n",
    "            output_size=(1080, 1080),\n",
    "            vertex_color=[1,1,1,0],\n",
    "            vertex_fill_color=v_distrib,\n",
    "            vertex_size=1,\n",
    "            edge_pen_width=1.2,\n",
    "            vcmap=matplotlib.cm.gist_heat_r,\n",
    "            output=\"huRI.pdf\")"
   ]
  },
  {
   "cell_type": "code",
   "execution_count": 22,
   "id": "781936e5",
   "metadata": {},
   "outputs": [],
   "source": [
    "f = open(\"node_scores.tsv\", \"w\")\n",
    "for v in g.iter_vertices():\n",
    "    print(f\"{g.vp.name[v]}\\t{g.vp.v_distrib[v]:.6f}\", file=f)"
   ]
  }
 ],
 "metadata": {
  "kernelspec": {
   "display_name": "Python 3 (ipykernel)",
   "language": "python",
   "name": "python3"
  },
  "language_info": {
   "codemirror_mode": {
    "name": "ipython",
    "version": 3
   },
   "file_extension": ".py",
   "mimetype": "text/x-python",
   "name": "python",
   "nbconvert_exporter": "python",
   "pygments_lexer": "ipython3",
   "version": "3.10.6"
  }
 },
 "nbformat": 4,
 "nbformat_minor": 5
}
