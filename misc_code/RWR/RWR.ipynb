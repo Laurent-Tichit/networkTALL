{
 "cells": [
  {
   "cell_type": "code",
   "execution_count": 34,
   "id": "29cc10a1",
   "metadata": {},
   "outputs": [],
   "source": [
    "import graph_tool.all as gt\n",
    "# import matplotlib\n",
    "import csv, os\n",
    "# import pathlib"
   ]
  },
  {
   "cell_type": "code",
   "execution_count": 35,
   "id": "27e2dc57",
   "metadata": {},
   "outputs": [],
   "source": [
    "# change this line to suit your needs\n",
    "rwrd = \"/home/nguyenah1112/networkTALL/misc_code/RWR\"\n",
    "\n",
    "# input network file\n",
    "network_file = os.path.join(rwrd, \"data/PPI_HiUnion_LitBM_APID_gene_names_190123_nodes_only.tsv\")\n",
    "\n",
    "# input weights file: weigths are either binary (0 or 1) or \"-log(p-value)\" to have low p-value -> big number and high p-value -> low number\n",
    "weights_file = os.path.join(rwrd, \"data/HOXA_tAML_padj_neglog_RWR.tsv\")\n",
    "\n",
    "# output file \n",
    "outfile = os.path.join(rwrd, \"output/RW_HOXA_tAML.tsv\")"
   ]
  },
  {
   "cell_type": "code",
   "execution_count": 36,
   "id": "ca026251",
   "metadata": {},
   "outputs": [],
   "source": [
    "# should be a 2-column CSV of edge list. And edge is a pair of nodes.\n",
    "g = gt.load_graph_from_csv(network_file, csv_options={'delimiter': '\\t'})"
   ]
  },
  {
   "cell_type": "code",
   "execution_count": 37,
   "id": "5ff9c8d6",
   "metadata": {},
   "outputs": [
    {
     "data": {
      "text/plain": [
       "15390"
      ]
     },
     "execution_count": 37,
     "metadata": {},
     "output_type": "execute_result"
    }
   ],
   "source": [
    "g.num_vertices()"
   ]
  },
  {
   "cell_type": "code",
   "execution_count": 38,
   "id": "f28d7237",
   "metadata": {},
   "outputs": [],
   "source": [
    "# create dict, to be able to get node object from node name\n",
    "name2node = {}\n",
    "for v in g.iter_vertices():\n",
    "    name2node[g.vp.name[v]] = v"
   ]
  },
  {
   "cell_type": "code",
   "execution_count": 39,
   "id": "88660561",
   "metadata": {},
   "outputs": [],
   "source": [
    "# read weights file and add to graphs as pers property (personalized)\n",
    "with open(weights_file, \"r\") as f:\n",
    "    csv_reader = csv.reader(f, delimiter='\\t')\n",
    "    list_of_rows = list(csv_reader)"
   ]
  },
  {
   "cell_type": "code",
   "execution_count": 41,
   "id": "b0cd5559",
   "metadata": {},
   "outputs": [
    {
     "data": {
      "text/plain": [
       "['VPREB3', '0.003207879130690995']"
      ]
     },
     "execution_count": 41,
     "metadata": {},
     "output_type": "execute_result"
    }
   ],
   "source": [
    "list_of_rows[0]"
   ]
  },
  {
   "cell_type": "code",
   "execution_count": 30,
   "id": "b1a8aa38",
   "metadata": {},
   "outputs": [
    {
     "ename": "KeyError",
     "evalue": "'gene_name'",
     "output_type": "error",
     "traceback": [
      "\u001b[0;31m---------------------------------------------------------------------------\u001b[0m",
      "\u001b[0;31mKeyError\u001b[0m                                  Traceback (most recent call last)",
      "Cell \u001b[0;32mIn[30], line 7\u001b[0m\n\u001b[1;32m      5\u001b[0m g\u001b[38;5;241m.\u001b[39mvp\u001b[38;5;241m.\u001b[39mpers \u001b[38;5;241m=\u001b[39m g\u001b[38;5;241m.\u001b[39mnew_vertex_property(\u001b[38;5;124m'\u001b[39m\u001b[38;5;124mdouble\u001b[39m\u001b[38;5;124m'\u001b[39m)\n\u001b[1;32m      6\u001b[0m \u001b[38;5;28;01mfor\u001b[39;00m gene_name, norm_DE \u001b[38;5;129;01min\u001b[39;00m list_of_rows:\n\u001b[0;32m----> 7\u001b[0m     n \u001b[38;5;241m=\u001b[39m \u001b[43mname2node\u001b[49m\u001b[43m[\u001b[49m\u001b[43mgene_name\u001b[49m\u001b[43m]\u001b[49m\n\u001b[1;32m      8\u001b[0m     g\u001b[38;5;241m.\u001b[39mvp\u001b[38;5;241m.\u001b[39mpers[n] \u001b[38;5;241m=\u001b[39m norm_DE\n",
      "\u001b[0;31mKeyError\u001b[0m: 'gene_name'"
     ]
    }
   ],
   "source": [
    "g.vp.pers = g.new_vertex_property('double')\n",
    "for gene_name, norm_DE in list_of_rows:\n",
    "    n = name2node[gene_name]\n",
    "    g.vp.pers[n] = norm_DE"
   ]
  },
  {
   "cell_type": "code",
   "execution_count": 31,
   "id": "a19cba4d",
   "metadata": {},
   "outputs": [],
   "source": [
    "# returns the distribution vector, and the number of iterations done\n",
    "v_distrib = gt.graph_tool.centrality.pagerank(g,\n",
    "                        pers=g.vp.pers,\n",
    "                        damping=0.5,\n",
    "                        epsilon=1e-09,\n",
    "                        max_iter=g.num_edges())"
   ]
  },
  {
   "cell_type": "code",
   "execution_count": 32,
   "id": "c610b7e1",
   "metadata": {},
   "outputs": [],
   "source": [
    "# adds the vector distribution to the graph (so that if we save the graph, the node values will be saved)\n",
    "g.vp.v_distrib = v_distrib"
   ]
  },
  {
   "cell_type": "code",
   "execution_count": 33,
   "id": "996f5c55",
   "metadata": {},
   "outputs": [],
   "source": [
    "# save the vector distribution to file\n",
    "with open(outfile, \"w\") as f:\n",
    "    for v in g.iter_vertices():\n",
    "        print(f\"{g.vp.name[v]}\\t{g.vp.v_distrib[v]:.9f}\", file=f)"
   ]
  },
  {
   "cell_type": "code",
   "execution_count": null,
   "id": "a94edbf5",
   "metadata": {},
   "outputs": [],
   "source": []
  }
 ],
 "metadata": {
  "kernelspec": {
   "display_name": "Python 3 (ipykernel)",
   "language": "python",
   "name": "python3"
  },
  "language_info": {
   "codemirror_mode": {
    "name": "ipython",
    "version": 3
   },
   "file_extension": ".py",
   "mimetype": "text/x-python",
   "name": "python",
   "nbconvert_exporter": "python",
   "pygments_lexer": "ipython3",
   "version": "3.11.3"
  }
 },
 "nbformat": 4,
 "nbformat_minor": 5
}
