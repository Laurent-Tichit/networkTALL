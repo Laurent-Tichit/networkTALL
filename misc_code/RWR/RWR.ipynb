{
 "cells": [
  {
   "cell_type": "code",
   "execution_count": 56,
   "id": "29cc10a1",
   "metadata": {},
   "outputs": [],
   "source": [
    "import graph_tool.all as gt\n",
    "import matplotlib"
   ]
  },
  {
   "cell_type": "code",
   "execution_count": 57,
   "id": "27e2dc57",
   "metadata": {},
   "outputs": [
    {
     "name": "stdout",
     "output_type": "stream",
     "text": [
      "Working directory is: /home/tichit/AMUbox/sync/Recherche/AnnieNguyen/networkTALL/misc_code/RWR\n",
      "Home directory is: /home/tichit\n",
      "Changing directory to: /home/tichit/sync/Recherche/AnnieNguyen/networkTALL/misc_code/RWR\n"
     ]
    }
   ],
   "source": [
    "import os, pathlib\n",
    "\n",
    "# change this line to suit your needs\n",
    "rwrd = \"sync/Recherche/AnnieNguyen/networkTALL/misc_code/RWR\"\n",
    "\n",
    "wd = os.getcwd()\n",
    "hd = pathlib.Path.home()\n",
    "abs_rwrd = os.path.join(hd, rwrd)\n",
    "print(\"Working directory is:\", wd)\n",
    "print(\"Home directory is:\", hd)\n",
    "print(\"Changing directory to:\", abs_rwrd)\n",
    "os.chdir(abs_rwrd)"
   ]
  },
  {
   "cell_type": "code",
   "execution_count": 51,
   "id": "f28d7237",
   "metadata": {},
   "outputs": [],
   "source": [
    "g = gt.load_graph_from_csv(\"data/HI-union.tsv\", csv_options={'delimiter': '\\t'})"
   ]
  },
  {
   "cell_type": "code",
   "execution_count": 52,
   "id": "a19cba4d",
   "metadata": {},
   "outputs": [],
   "source": [
    "v_distrib, ri = gt.graph_tool.centrality.pagerank(g, damping=0.999, epsilon=1e-09, max_iter=g.num_edges(), ret_iter=True)"
   ]
  },
  {
   "cell_type": "code",
   "execution_count": 53,
   "id": "c610b7e1",
   "metadata": {},
   "outputs": [
    {
     "name": "stdout",
     "output_type": "stream",
     "text": [
      "13681\n"
     ]
    }
   ],
   "source": [
    "print(ri)"
   ]
  },
  {
   "cell_type": "code",
   "execution_count": 54,
   "id": "996f5c55",
   "metadata": {},
   "outputs": [],
   "source": [
    "g.vp.v_distrib = v_distrib"
   ]
  },
  {
   "cell_type": "code",
   "execution_count": 49,
   "id": "9f8eb8af",
   "metadata": {},
   "outputs": [
    {
     "data": {
      "text/plain": [
       "<VertexPropertyMap object with value type 'vector<double>', for Graph 0x7ff3dcd59a80, at 0x7ff3da0b19c0>"
      ]
     },
     "execution_count": 49,
     "metadata": {},
     "output_type": "execute_result"
    }
   ],
   "source": [
    "pos = gt.sfdp_layout(g)\n",
    "gt.graph_draw(g,\n",
    "            pos,\n",
    "            output_size=(1080, 1080),\n",
    "            vertex_color=[1,1,1,0],\n",
    "            vertex_fill_color=v_distrib,\n",
    "            vertex_size=1,\n",
    "            edge_pen_width=1.2,\n",
    "            vcmap=matplotlib.cm.gist_heat_r,\n",
    "            output=\"RW_HI-union.pdf\")"
   ]
  },
  {
   "cell_type": "code",
   "execution_count": 55,
   "id": "781936e5",
   "metadata": {},
   "outputs": [],
   "source": [
    "f = open(\"RW_HI-union.tsv\", \"w\")\n",
    "for v in g.iter_vertices():\n",
    "    print(f\"{g.vp.name[v]}\\t{g.vp.v_distrib[v]:.9f}\", file=f)"
   ]
  }
 ],
 "metadata": {
  "kernelspec": {
   "display_name": "Python 3 (ipykernel)",
   "language": "python",
   "name": "python3"
  },
  "language_info": {
   "codemirror_mode": {
    "name": "ipython",
    "version": 3
   },
   "file_extension": ".py",
   "mimetype": "text/x-python",
   "name": "python",
   "nbconvert_exporter": "python",
   "pygments_lexer": "ipython3",
   "version": "3.10.6"
  }
 },
 "nbformat": 4,
 "nbformat_minor": 5
}
